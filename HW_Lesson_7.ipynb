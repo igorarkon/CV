{
 "cells": [
  {
   "cell_type": "code",
   "execution_count": null,
   "metadata": {},
   "outputs": [],
   "source": [
    "import os\n",
    "import glob\n",
    "import random\n",
    "import numpy as np\n",
    "import matplotlib.pyplot as plt\n",
    "\n",
    "import tensorflow as tf"
   ]
  },
  {
   "cell_type": "code",
   "execution_count": null,
   "metadata": {},
   "outputs": [],
   "source": [
    "!pip install scikit-video==1.1.11\n",
    "import skvideo.io"
   ]
  },
  {
   "cell_type": "code",
   "execution_count": null,
   "metadata": {},
   "outputs": [],
   "source": [
    "!wget http://www.csc.kth.se/cvap/actions/walking.zip\n",
    "!wget http://www.csc.kth.se/cvap/actions/jogging.zip\n",
    "!wget http://www.csc.kth.se/cvap/actions/running.zip\n",
    "!wget http://www.csc.kth.se/cvap/actions/boxing.zip\n",
    "!wget http://www.csc.kth.se/cvap/actions/handwaving.zip\n",
    "!wget http://www.csc.kth.se/cvap/actions/handclapping.zip"
   ]
  },
  {
   "cell_type": "code",
   "execution_count": null,
   "metadata": {},
   "outputs": [],
   "source": [
    "classes = [\n",
    "    'walking',\n",
    "    'jogging',\n",
    "    'running',\n",
    "    'boxing',\n",
    "    'handwaving',\n",
    "    'handclapping',\n",
    "]\n",
    "\n",
    "dataset_data = []\n",
    "data_root = './'\n",
    "for cls in classes:\n",
    "    print('Processing class: {}'.format(cls))\n",
    "    for fpath in glob.glob(os.path.join(data_root, cls, '*.avi')):\n",
    "      dataset_data.append((fpath, cls))\n",
    "print(f'Количество видео: {len(dataset_data)}')"
   ]
  },
  {
   "cell_type": "code",
   "execution_count": null,
   "metadata": {},
   "outputs": [],
   "source": [
    "fig = plt.figure(figsize=(16, 8))\n",
    "ax_1 = fig.add_subplot(1, 2, 1)\n",
    "videodata = skvideo.io.vread(dataset_data[0][0])\n",
    "videodata = videodata.astype(np.float32) / 255.\n",
    "plt.imshow(videodata[50, ...])\n",
    "plt.title(f'videodata shape: {videodata.shape}')\n",
    "  \n",
    "ax_2 = fig.add_subplot(1, 2, 2)\n",
    "motion = np.mean(videodata[1:, ...] - videodata[:-1, ...], axis=3, keepdims=True)\n",
    "plt.imshow(motion[50, ..., 0])\n",
    "plt.title(f'motion shape: {motion.shape}')\n",
    "plt.show()"
   ]
  },
  {
   "cell_type": "code",
   "execution_count": null,
   "metadata": {},
   "outputs": [],
   "source": [
    "NUM_TRAIN_ELEM = 500\n",
    "NUM_FRAMES = 200\n",
    "NUM_EPOCHS = 5\n",
    "BATCH_SIZE = 2\n",
    "\n",
    "random.shuffle(dataset_data)\n",
    "\n",
    "def path_to_motion(video_class, NUM_FRAMES=200):\n",
    "    videodata = skvideo.io.vread(video_class.numpy()[0].decode('UTF-8'), num_frames=NUM_FRAMES)\n",
    "    videodata = videodata.astype(np.float32) / 255.\n",
    "    motion = np.mean(videodata[1:, ...] - videodata[:-1, ...], axis=3, keepdims=True)\n",
    "    return motion, classes.index(video_class.numpy()[1].decode('UTF-8'))\n",
    "\n",
    "def set_shapes(motion, cl_idx):\n",
    "\n",
    "    motion.set_shape((199, 120, 160, 1))\n",
    "    cl_idx.set_shape([])\n",
    "    return motion, cl_idx\n",
    "\n",
    "train_ds = tf.data.Dataset.from_tensor_slices(dataset_data[:NUM_TRAIN_ELEM])\n",
    "train_ds = train_ds.shuffle(buffer_size=len(train_ds))\n",
    "train_ds = train_ds.map(lambda video_class: tf.py_function(func=path_to_motion,\n",
    "                                                            inp=[video_class], \n",
    "                                                           Tout=[tf.float32, tf.uint8]))\n",
    "train_ds = train_ds.map(lambda x, y: set_shapes(x, y))\n",
    "train_ds = train_ds.batch(BATCH_SIZE, drop_remainder=True)\n",
    "print(f'Длина тренировочного датасета: {len(train_ds)}')\n",
    "\n",
    "test_ds = tf.data.Dataset.from_tensor_slices(dataset_data[NUM_TRAIN_ELEM:])\n",
    "test_ds = test_ds.map(lambda video_class: tf.py_function(func=path_to_motion,\n",
    "                                                          inp=[video_class], \n",
    "                                                         Tout=[tf.float32, tf.uint8]))\n",
    "test_ds = test_ds.map(lambda x, y: set_shapes(x, y))\n",
    "test_ds = test_ds.batch(BATCH_SIZE, drop_remainder=True)\n",
    "print(f'Длина тестового датасета: {len(test_ds)}')"
   ]
  },
  {
   "cell_type": "code",
   "execution_count": null,
   "metadata": {},
   "outputs": [],
   "source": [
    "import tensorflow_datasets as tfds\n",
    "ds_train_np = tfds.as_numpy(train_ds.take(6)) #tf.data.Dataset -> Iterator[Tree[np.array]] (преобразуем датасет в итератор)\n",
    "fig = plt.figure(figsize=(16, 8))\n",
    "j = 0\n",
    "for motion, cl_idx in ds_train_np:\n",
    "  ax = fig.add_subplot(2, 3, j+1)\n",
    "  plt.imshow(motion[0][0][...,0])\n",
    "  plt.xticks([]), plt.yticks([])\n",
    "  plt.title(classes[cl_idx[0]])\n",
    "  j += 1\n",
    "plt.show()"
   ]
  },
  {
   "cell_type": "code",
   "execution_count": null,
   "metadata": {},
   "outputs": [],
   "source": [
    "model = tf.keras.Sequential([\n",
    "    tf.keras.layers.Conv3D(32, (5, 5, 5), (1, 2, 2), padding='same', activation='relu'),\n",
    "    tf.keras.layers.MaxPool3D((1, 2, 2), padding='same'),\n",
    "    tf.keras.layers.Conv3D(64, (5, 5, 5), (1, 2, 2), padding='same', activation='relu'),\n",
    "    tf.keras.layers.MaxPool3D((1, 2, 2), padding='same'),\n",
    "    tf.keras.layers.Conv3D(64, (3, 3, 3), (1, 2, 2), padding='same', activation='relu'),\n",
    "    tf.keras.layers.MaxPool3D((1, 2, 2), padding='same'),\n",
    "    tf.keras.layers.Conv3D(64, (3, 3, 3), (1, 1, 1), padding='same', activation=None),\n",
    "    tf.keras.layers.GlobalAveragePooling3D(),\n",
    "    tf.keras.layers.Dense(64, activation='relu'),\n",
    "    tf.keras.layers.Dense(6, activation=None)\n",
    "])"
   ]
  },
  {
   "cell_type": "code",
   "execution_count": null,
   "metadata": {},
   "outputs": [],
   "source": [
    "LEARNING_RATE = 0.001\n",
    "\n",
    "model.compile(\n",
    "              loss=tf.keras.losses.SparseCategoricalCrossentropy(from_logits=True), \n",
    "         optimizer=tf.keras.optimizers.Adam(LEARNING_RATE),\n",
    "          metrics = ['accuracy']\n",
    "              )"
   ]
  },
  {
   "cell_type": "code",
   "execution_count": null,
   "metadata": {},
   "outputs": [],
   "source": [
    "%%time\n",
    "NUM_EPOCHS = 10\n",
    "\n",
    "history = model.fit(\n",
    "                     train_ds,\n",
    "                     epochs=NUM_EPOCHS,\n",
    "                     validation_data=test_ds\n",
    "                    )"
   ]
  },
  {
   "cell_type": "code",
   "execution_count": null,
   "metadata": {},
   "outputs": [],
   "source": [
    "model.evaluate(test_ds)"
   ]
  },
  {
   "cell_type": "code",
   "execution_count": null,
   "metadata": {},
   "outputs": [],
   "source": [
    "plt.plot(history.history['accuracy'], label='accuracy')\n",
    "plt.plot(history.history['val_accuracy'], label = 'val_accuracy')\n",
    "plt.xlabel('Epoch')\n",
    "plt.ylabel('Accuracy')\n",
    "plt.ylim([0.5, 1])\n",
    "plt.legend(loc='lower right')\n",
    "plt.show()"
   ]
  },
  {
   "cell_type": "code",
   "execution_count": null,
   "metadata": {},
   "outputs": [],
   "source": [
    "fpath_cls_true_list = random.sample(dataset_data[NUM_TRAIN_ELEM:], 6) \n",
    "fig = plt.figure(figsize=(16, 8))\n",
    "for i in range(len(fpath_cls_true_list)):\n",
    "  ax = fig.add_subplot(2, 3, i+1)\n",
    "  videodata = skvideo.io.vread(fpath_cls_true_list[i][0])\n",
    "  videodata = videodata.astype(np.float32) / 255.\n",
    "  plt.imshow(videodata[30, ...])\n",
    "  \n",
    "  motion = np.mean(videodata[1:, ...] - videodata[:-1, ...], axis=3, keepdims=True)\n",
    "  out = model(motion[None, ...])[0]\n",
    "  cls_pred = np.argmax(out.numpy())\n",
    "  plt.title(f'True class: {fpath_cls_true_list[i][1]} \\n Predicted class: {classes[cls_pred]}')\n",
    "  plt.xticks([]), plt.yticks([])\n",
    "plt.show()"
   ]
  },
  {
   "cell_type": "code",
   "execution_count": null,
   "metadata": {},
   "outputs": [],
   "source": []
  }
 ],
 "metadata": {
  "kernelspec": {
   "display_name": "Python 3",
   "language": "python",
   "name": "python3"
  },
  "language_info": {
   "codemirror_mode": {
    "name": "ipython",
    "version": 3
   },
   "file_extension": ".py",
   "mimetype": "text/x-python",
   "name": "python",
   "nbconvert_exporter": "python",
   "pygments_lexer": "ipython3",
   "version": "3.8.5"
  }
 },
 "nbformat": 4,
 "nbformat_minor": 4
}
